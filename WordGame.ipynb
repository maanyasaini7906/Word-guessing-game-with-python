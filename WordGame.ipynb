{
  "nbformat": 4,
  "nbformat_minor": 0,
  "metadata": {
    "colab": {
      "provenance": []
    },
    "kernelspec": {
      "name": "python3",
      "display_name": "Python 3"
    },
    "language_info": {
      "name": "python"
    }
  },
  "cells": [
    {
      "cell_type": "markdown",
      "source": [
        "**Word Guessing Game using Python: **\n",
        "\n",
        " Developing a text-based word guessing game in Python where the computer randomly selects a secret word from a predefined list. The user repeatedly guesses the word, and after each guess, the program provides hints by indicating how many letters are correct and in the correct position. The game includes input validation, real-time feedback, and tracks the number of attempts taken to guess the correct word.\n",
        "\n",
        " This project helps strengthen my understanding of control flow, loops, string manipulation, and user interaction in Python.\n",
        "\n",
        " PSEUDOCODE:\n",
        "\n",
        " 1.) Start the program.\n",
        "\n",
        " 2.) Show welome message and rules.\n",
        "\n",
        " 3.)Let user choose a difficulty level , based on these level set a list of possile secret words.\n",
        "\n",
        " 4.)Randomly select a secret word from chosen list .\n",
        "\n",
        " 5.)Tell the user how many letters are in the secret woord.\n",
        "\n",
        " 6.)Set attempt counter to 0.\n",
        "\n",
        " 7.)While the use hasn't guessed the word:\n",
        "\n",
        " a.Ask user to enter a guess.\n",
        "\n",
        " b.Increment attempt counter\n",
        "\n",
        " c. IF guess euals secret word: print \"CONGRATULATIONS\" and show attempts also break the loop.\n",
        "\n",
        " d. ELSE : Compare each letter in the guess to the secret word and count how many letters are correct and in the correct place."
      ],
      "metadata": {
        "id": "WY8KzpZFZ_sR"
      }
    },
    {
      "cell_type": "code",
      "source": [
        "import random\n",
        "\n",
        "# Word lists by difficulty\n",
        "easy_level = [\"apple\",\"train\",\"tiger\",\"money\",\"india\"]\n",
        "medium_level = [\"python\",\"bottle\",\"monkey\",\"planet\",\"laptop\"]\n",
        "hard_level = [\"elephant\",\"diamond\",\"umbrella\",\"computer\",\"mountain\"]\n",
        "\n",
        "print(\"=== Welcome to the Password Guessing Game ===\")\n",
        "print(\"Choose a difficulty level: easy, medium, or hard\")\n",
        "\n",
        "# Input difficulty\n",
        "level = input(\"Enter difficulty: \").lower()\n",
        "\n",
        "# Select word based on difficulty\n",
        "if level == \"easy\":\n",
        "    secret = random.choice(easy_level)\n",
        "elif level == \"medium\":\n",
        "    secret = random.choice(medium_level)\n",
        "elif level == \"hard\":\n",
        "    secret = random.choice(hard_level)\n",
        "else:\n",
        "    print(\"Invalid input. Defaulting to easy level.\")\n",
        "    secret = random.choice(easy_level)\n",
        "\n",
        "# Game starts\n",
        "attempts = 0\n",
        "print(f\"\\nThe secret word has {len(secret)} letters.\")\n",
        "print(\"Start guessing!\\n\")\n",
        "\n",
        "while True:\n",
        "    guess = input(\"Enter your guess: \").strip().lower()\n",
        "    attempts += 1\n",
        "\n",
        "    if guess == secret:\n",
        "        print(f\"\\n Congratulations! You guessed it in {attempts} attempts.\")\n",
        "        break\n",
        "\n",
        "    # Generate hint\n",
        "    hint = \"\"\n",
        "    for i in range(len(secret)):\n",
        "        if i < len(guess) and guess[i] == secret[i]:\n",
        "            hint += guess[i]\n",
        "        else:\n",
        "            hint += \"_.\"\n",
        "\n",
        "    print(\"Hint: \", hint)\n",
        "\n",
        "print(\"GAME OVER \")\n"
      ],
      "metadata": {
        "colab": {
          "base_uri": "https://localhost:8080/"
        },
        "id": "w3qSNS9esvC5",
        "outputId": "3e2613c3-37c5-46ab-fbf8-db376d7e4d66"
      },
      "execution_count": 1,
      "outputs": [
        {
          "output_type": "stream",
          "name": "stdout",
          "text": [
            "=== Welcome to the Password Guessing Game ===\n",
            "Choose a difficulty level: easy, medium, or hard\n",
            "Enter difficulty: medium\n",
            "\n",
            "The secret word has 6 letters.\n",
            "Start guessing!\n",
            "\n",
            "Enter your guess: plannt\n",
            "Hint:  plan_.t\n",
            "Enter your guess: planit\n",
            "Hint:  plan_.t\n",
            "Enter your guess: planft\n",
            "Hint:  plan_.t\n",
            "Enter your guess: planet\n",
            "\n",
            " Congratulations! You guessed it in 4 attempts.\n",
            "GAME OVER \n"
          ]
        }
      ]
    }
  ]
}